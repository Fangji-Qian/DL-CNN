{
  "cells": [
    {
      "cell_type": "code",
      "execution_count": 1,
      "metadata": {
        "colab": {
          "base_uri": "https://localhost:8080/"
        },
        "id": "UUCQpisLsEWL",
        "outputId": "e6c48d63-cfb1-47fd-94f3-aee126024cfb"
      },
      "outputs": [
        {
          "output_type": "stream",
          "name": "stdout",
          "text": [
            "Collecting flask-ngrok\n",
            "  Downloading flask_ngrok-0.0.25-py3-none-any.whl.metadata (1.8 kB)\n",
            "Requirement already satisfied: Flask>=0.8 in /usr/local/lib/python3.11/dist-packages (from flask-ngrok) (3.1.1)\n",
            "Requirement already satisfied: requests in /usr/local/lib/python3.11/dist-packages (from flask-ngrok) (2.32.3)\n",
            "Requirement already satisfied: blinker>=1.9.0 in /usr/local/lib/python3.11/dist-packages (from Flask>=0.8->flask-ngrok) (1.9.0)\n",
            "Requirement already satisfied: click>=8.1.3 in /usr/local/lib/python3.11/dist-packages (from Flask>=0.8->flask-ngrok) (8.2.0)\n",
            "Requirement already satisfied: itsdangerous>=2.2.0 in /usr/local/lib/python3.11/dist-packages (from Flask>=0.8->flask-ngrok) (2.2.0)\n",
            "Requirement already satisfied: jinja2>=3.1.2 in /usr/local/lib/python3.11/dist-packages (from Flask>=0.8->flask-ngrok) (3.1.6)\n",
            "Requirement already satisfied: markupsafe>=2.1.1 in /usr/local/lib/python3.11/dist-packages (from Flask>=0.8->flask-ngrok) (3.0.2)\n",
            "Requirement already satisfied: werkzeug>=3.1.0 in /usr/local/lib/python3.11/dist-packages (from Flask>=0.8->flask-ngrok) (3.1.3)\n",
            "Requirement already satisfied: charset-normalizer<4,>=2 in /usr/local/lib/python3.11/dist-packages (from requests->flask-ngrok) (3.4.2)\n",
            "Requirement already satisfied: idna<4,>=2.5 in /usr/local/lib/python3.11/dist-packages (from requests->flask-ngrok) (3.10)\n",
            "Requirement already satisfied: urllib3<3,>=1.21.1 in /usr/local/lib/python3.11/dist-packages (from requests->flask-ngrok) (2.4.0)\n",
            "Requirement already satisfied: certifi>=2017.4.17 in /usr/local/lib/python3.11/dist-packages (from requests->flask-ngrok) (2025.4.26)\n",
            "Downloading flask_ngrok-0.0.25-py3-none-any.whl (3.1 kB)\n",
            "Installing collected packages: flask-ngrok\n",
            "Successfully installed flask-ngrok-0.0.25\n",
            "Collecting pyngrok\n",
            "  Downloading pyngrok-7.2.8-py3-none-any.whl.metadata (10 kB)\n",
            "Requirement already satisfied: PyYAML>=5.1 in /usr/local/lib/python3.11/dist-packages (from pyngrok) (6.0.2)\n",
            "Downloading pyngrok-7.2.8-py3-none-any.whl (25 kB)\n",
            "Installing collected packages: pyngrok\n",
            "Successfully installed pyngrok-7.2.8\n"
          ]
        }
      ],
      "source": [
        "!pip install flask-ngrok\n",
        "!pip install pyngrok"
      ]
    },
    {
      "cell_type": "code",
      "execution_count": 2,
      "metadata": {
        "id": "NUxtBMtDziI3"
      },
      "outputs": [],
      "source": [
        "from flask import Flask, request, render_template, url_for\n",
        "from flask_ngrok import run_with_ngrok\n",
        "from pyngrok import ngrok\n",
        "import os\n",
        "from werkzeug.utils import secure_filename\n",
        "\n"
      ]
    },
    {
      "cell_type": "code",
      "execution_count": 3,
      "metadata": {
        "id": "Vi8I502SKjdu"
      },
      "outputs": [],
      "source": [
        "!mkdir -p /content/static/uploads"
      ]
    },
    {
      "cell_type": "code",
      "execution_count": 4,
      "metadata": {
        "id": "DjpCHuyBsFZG"
      },
      "outputs": [],
      "source": [
        "html_code = '''\n",
        "<!DOCTYPE html>\n",
        "<html>\n",
        "<head>\n",
        "    <title>Snake Classifier</title>\n",
        "    <style>\n",
        "        body {\n",
        "            font-family: Arial, sans-serif;\n",
        "            text-align: center;\n",
        "            margin-top: 50px;\n",
        "        }\n",
        "        .upload-box {\n",
        "            border: 2px dashed #aaa;\n",
        "            padding: 40px;\n",
        "            width: 400px;\n",
        "            margin: auto;\n",
        "            background-color: #f9f9f9;\n",
        "        }\n",
        "        .upload-box input {\n",
        "            margin-top: 20px;\n",
        "        }\n",
        "        .search-button {\n",
        "            margin-top: 20px;\n",
        "            padding: 10px 20px;\n",
        "            background-color: #4CAF50;\n",
        "            color: white;\n",
        "            border: none;\n",
        "            border-radius: 5px;\n",
        "        }\n",
        "    </style>\n",
        "</head>\n",
        "<body>\n",
        "    <h1>Snake Classifier</h1>\n",
        "    <form action=\"/predict\" method=\"POST\" enctype=\"multipart/form-data\">\n",
        "        <div class=\"upload-box\">\n",
        "            <p>Drag image here or upload file</p>\n",
        "            <input type=\"file\" name=\"image\">\n",
        "            <br>\n",
        "            <button class=\"search-button\" type=\"submit\">Search</button>\n",
        "        </div>\n",
        "    </form>\n",
        "</body>\n",
        "</html>\n",
        "'''\n",
        "\n",
        "os.makedirs(\"templates\", exist_ok=True)\n",
        "with open(\"templates/index.html\", \"w\") as f:\n",
        "    f.write(html_code)"
      ]
    },
    {
      "cell_type": "code",
      "source": [
        "html_code = '''\n",
        "<!DOCTYPE html>\n",
        "<html>\n",
        "<head>\n",
        "    <title>Snake Classifier - Result</title>\n",
        "    <style>\n",
        "        body {\n",
        "            font-family: Arial, sans-serif;\n",
        "            padding: 30px;\n",
        "        }\n",
        "        .image-row {\n",
        "            display: flex;\n",
        "            justify-content: space-between;\n",
        "        }\n",
        "        .image-box {\n",
        "            width: 45%;\n",
        "            border: 1px solid #ccc;\n",
        "            padding: 10px;\n",
        "            text-align: center;\n",
        "        }\n",
        "        .info-grid {\n",
        "            display: grid;\n",
        "            grid-template-columns: 1fr 1fr;\n",
        "            margin-top: 30px;\n",
        "            gap: 20px;\n",
        "        }\n",
        "        .info-grid .left, .info-grid .right {\n",
        "            padding: 10px;\n",
        "            border-top: 1px solid #ccc;\n",
        "        }\n",
        "        h3 {\n",
        "            margin-bottom: 5px;\n",
        "        }\n",
        "        .field-label {\n",
        "            font-weight: bold;\n",
        "        }\n",
        "    </style>\n",
        "</head>\n",
        "<body>\n",
        "\n",
        "<h1>Snake Classifier</h1>\n",
        "\n",
        "<div class=\"image-row\">\n",
        "    <div class=\"image-box\">\n",
        "        <h3>Wiki Image</h3>\n",
        "        <img src=\"https://upload.wikimedia.org/wikipedia/commons/8/8a/Aspidites_melanocephalus.jpg\"\n",
        "             alt=\"Wiki Image\" width=\"100%\">\n",
        "    </div>\n",
        "    <div class=\"image-box\">\n",
        "        <h3>Uploaded Image</h3>\n",
        "        <img src=\"{{ uploaded_image_url }}\" alt=\"Uploaded\" width=\"100%\">\n",
        "    </div>\n",
        "</div>\n",
        "\n",
        "<div class=\"info-grid\">\n",
        "    <div class=\"left\">\n",
        "        <p><span class=\"field-label\">NAME:</span> Black-headed Python</p>\n",
        "        <p><span class=\"field-label\">LATIN NAME:</span> Aspidites melanocephalus</p>\n",
        "        <p><span class=\"field-label\">DESCRIPTION:</span> Non-venomous python species found in northern Australia.</p>\n",
        "        <p><span class=\"field-label\">HABITAT:</span> Savannahs, dry forests, and scrublands</p>\n",
        "        <p><span class=\"field-label\">BEHAVIOR:</span> Mostly terrestrial, non-aggressive</p>\n",
        "        <p><span class=\"field-label\">POISONOUS:</span> NO</p>\n",
        "        <p><span class=\"field-label\">DANGER LEVEL:</span> Low</p>\n",
        "    </div>\n",
        "    <div class=\"right\">\n",
        "        <h3>Emergency Treatment:</h3>\n",
        "        <p>This species is non-venomous and typically does not require medical attention unless infection occurs from bite wounds.</p>\n",
        "    </div>\n",
        "</div>\n",
        "\n",
        "</body>\n",
        "</html>\n",
        "'''\n",
        "\n",
        "os.makedirs(\"templates\", exist_ok=True)\n",
        "with open(\"templates/result.html\", \"w\") as f:\n",
        "    f.write(html_code)"
      ],
      "metadata": {
        "id": "JkO63lm15Ks3"
      },
      "execution_count": 5,
      "outputs": []
    },
    {
      "cell_type": "code",
      "execution_count": 11,
      "metadata": {
        "colab": {
          "base_uri": "https://localhost:8080/"
        },
        "id": "57AG7ziHIVkE",
        "outputId": "993e2ef6-6058-41cf-da9c-0c6305cdc0a5"
      },
      "outputs": [
        {
          "output_type": "stream",
          "name": "stdout",
          "text": [
            "Public Network Address: NgrokTunnel: \"https://6fdd-34-106-154-190.ngrok-free.app\" -> \"http://localhost:5000\"\n",
            " * Serving Flask app '__main__'\n",
            " * Debug mode: off\n"
          ]
        },
        {
          "output_type": "stream",
          "name": "stderr",
          "text": [
            "INFO:werkzeug:\u001b[31m\u001b[1mWARNING: This is a development server. Do not use it in a production deployment. Use a production WSGI server instead.\u001b[0m\n",
            " * Running on http://127.0.0.1:5000\n",
            "INFO:werkzeug:\u001b[33mPress CTRL+C to quit\u001b[0m\n",
            "WARNING:pyngrok.process.ngrok:t=2025-05-21T12:59:45+0000 lvl=warn msg=\"Stopping forwarder\" name=http-5000-4e698a67-1a59-4c7c-9adc-f9b4682d083a acceptErr=\"failed to accept connection: Listener closed\"\n"
          ]
        }
      ],
      "source": [
        "# 这里你们要注册一个ngrok的号，然后在终端里输入下面的命令\n",
        "# ngrok config add-authtoken 你们自己的验证码\n",
        "\n",
        "app = Flask(__name__)\n",
        "UPLOAD_FOLDER = '/content/static/uploads'\n",
        "os.makedirs(UPLOAD_FOLDER, exist_ok=True)\n",
        "app.config['UPLOAD_FOLDER'] = UPLOAD_FOLDER\n",
        "\n",
        "@app.route('/')\n",
        "def index():\n",
        "    return render_template('index.html')\n",
        "\n",
        "@app.route('/predict', methods=['POST'])\n",
        "def predict():\n",
        "    if 'image' not in request.files:\n",
        "        return 'No file uploaded', 400\n",
        "    file = request.files['image']\n",
        "    filename = secure_filename(file.filename)\n",
        "    filepath = os.path.join(app.config['UPLOAD_FOLDER'], filename)\n",
        "    file.save(filepath)\n",
        "\n",
        "    uploaded_url = url_for('static', filename=f'uploads/{filename}')\n",
        "\n",
        "    return render_template('result.html', uploaded_image_url=uploaded_url)\n",
        "\n",
        "public_url = ngrok.connect(5000)\n",
        "print(\"Public Network Address:\", public_url)\n",
        "\n",
        "# initial flask\n",
        "app.run()"
      ]
    },
    {
      "cell_type": "code",
      "execution_count": 12,
      "metadata": {
        "colab": {
          "base_uri": "https://localhost:8080/"
        },
        "id": "3OdcdlQTsODK",
        "outputId": "a3530114-deef-46d6-d6df-ec94ce598abd"
      },
      "outputs": [
        {
          "output_type": "stream",
          "name": "stdout",
          "text": [
            "Public Network Address:  NgrokTunnel: \"https://de7b-34-106-154-190.ngrok-free.app\" -> \"http://localhost:5000\"\n",
            " * Serving Flask app '__main__'\n",
            " * Debug mode: off\n"
          ]
        },
        {
          "output_type": "stream",
          "name": "stderr",
          "text": [
            "INFO:werkzeug:\u001b[31m\u001b[1mWARNING: This is a development server. Do not use it in a production deployment. Use a production WSGI server instead.\u001b[0m\n",
            " * Running on http://127.0.0.1:5000\n",
            "INFO:werkzeug:\u001b[33mPress CTRL+C to quit\u001b[0m\n"
          ]
        }
      ],
      "source": [
        "app = Flask(__name__)\n",
        "\n",
        "@app.route('/')\n",
        "def index():\n",
        "    return render_template('index.html')\n",
        "\n",
        "@app.route('/predict', methods=['POST'])\n",
        "def predict():\n",
        "    if 'image' not in request.files:\n",
        "        return 'No file uploaded', 400\n",
        "    file = request.files['image']\n",
        "    filename = secure_filename(file.filename)\n",
        "    file.save(os.path.join('/content', filename))\n",
        "    return f'Image received: {filename}（Model not conntected）', 200\n",
        "\n",
        "public_url = ngrok.connect(5000)\n",
        "print(\"Public Network Address: \", public_url)\n",
        "\n",
        "app.run()"
      ]
    },
    {
      "cell_type": "code",
      "execution_count": null,
      "metadata": {
        "id": "Gr9VGI4QHQqb"
      },
      "outputs": [],
      "source": []
    }
  ],
  "metadata": {
    "colab": {
      "provenance": []
    },
    "kernelspec": {
      "display_name": "Python 3",
      "name": "python3"
    },
    "language_info": {
      "name": "python"
    }
  },
  "nbformat": 4,
  "nbformat_minor": 0
}